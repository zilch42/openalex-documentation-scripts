{
 "cells": [
  {
   "cell_type": "code",
   "execution_count": null,
   "metadata": {},
   "outputs": [
    {
     "name": "stdout",
     "output_type": "stream",
     "text": [
      "Found 12 entities: ['authors', 'concepts', 'domains', 'fields', 'funders', 'institutions', 'merged_ids', 'publishers', 'sources', 'subfields', 'topics', 'works']\n"
     ]
    }
   ],
   "source": [
    "import os\n",
    "from pathlib import Path\n",
    "import json\n",
    "import boto3\n",
    "from datetime import datetime\n",
    "from botocore import UNSIGNED\n",
    "from botocore.config import Config\n",
    "\n",
    "s3 = boto3.client('s3', config=Config(signature_version=UNSIGNED))\n",
    "bucket = 'openalex'\n",
    "\n",
    "SNAPSHOT_DIR = '../../openalex-snapshot'\n",
    "last_updated = datetime(2024, 1, 1)\n",
    "max_size = float('inf')\n",
    "max_size = 400000000 # 400mb\n",
    "\n",
    "def download_manifest(entity):\n",
    "    \"\"\"Download and parse the manifest file for an entity\"\"\"\n",
    "    manifest_key = f'data/{entity}/manifest'\n",
    "    manifest_path = Path(SNAPSHOT_DIR) / manifest_key\n",
    "    manifest_path.parent.mkdir(parents=True, exist_ok=True)\n",
    "    \n",
    "    try:\n",
    "        s3.download_file(bucket, manifest_key, manifest_path)\n",
    "    except s3.exceptions.ClientError as e:\n",
    "        if e.response['Error']['Code'] == '404':\n",
    "            raise RuntimeError(f\"Manifest file for {entity} does not exist. OpenAlex may be updating this entity. Please try again later.\")\n",
    "        # TODO add retry logic\n",
    "        raise  # Re-raise other errors\n",
    "    \n",
    "    with open(manifest_path, 'r') as f:\n",
    "        manifest_entries = json.loads(f.read())\n",
    "    \n",
    "    return manifest_entries, manifest_path\n",
    "\n",
    "# Get list of entity folders from bucket\n",
    "response = s3.list_objects_v2(Bucket=bucket, Prefix='data/', Delimiter='/')\n",
    "entities = [prefix.get('Prefix').removeprefix('data/').strip('/') for prefix in response.get('CommonPrefixes', [])]\n",
    "print(f\"Found {len(entities)} entities: {entities}\")\n"
   ]
  },
  {
   "cell_type": "code",
   "execution_count": null,
   "metadata": {},
   "outputs": [],
   "source": [
    "for entity in entities[7:]:\n",
    "    print(f\"\\nProcessing {entity}...\")\n",
    "    \n",
    "    if entity == 'merged_ids':\n",
    "        continue\n",
    "        # TODO has a folder structure. Needs handling \n",
    "         \n",
    "    # Step 1: Download initial manifest\n",
    "    initial_manifest, manifest_path = download_manifest(entity)\n",
    "    initial_manifest_time = datetime.now()\n",
    "\n",
    "    # Extract file paths and check dates and sizes\n",
    "    files_to_download = []\n",
    "    current_size = 0\n",
    "\n",
    "    for entry in initial_manifest.get('entries', []):\n",
    "        # Extract updated_date from the URL\n",
    "        # URLs look like: s3://openalex/data/authors/updated_date=2024-01-01/filename.gz\n",
    "        file_path = entry['url'].replace('s3://openalex/', '')  # Remove s3 prefix\n",
    "        updated_date_str = file_path.split('updated_date=')[1].split('/')[0]\n",
    "        updated_date = datetime.strptime(updated_date_str, '%Y-%m-%d')\n",
    "\n",
    "        if updated_date > last_updated:\n",
    "            files_to_download.append(file_path)\n",
    "\n",
    "        current_size += entry['meta']['content_length']\n",
    "        if current_size > max_size:\n",
    "            break\n",
    "    \n",
    "    print(f\"Found {len(files_to_download)} new files to download for {entity}\")\n",
    "    \n",
    "    # Download the new files\n",
    "    for file_path in files_to_download:\n",
    "        s3_key = file_path\n",
    "        local_path = Path(SNAPSHOT_DIR) / file_path\n",
    "        local_path.parent.mkdir(parents=True, exist_ok=True)\n",
    "        \n",
    "        print(f\"Downloading {s3_key}...\")\n",
    "        s3.download_file(bucket, s3_key, str(local_path))\n",
    "    \n",
    "    # Step 4: Download manifest again and verify it hasn't changed\n",
    "    final_manifest, _ = download_manifest(entity)\n",
    "    \n",
    "    if initial_manifest != final_manifest:\n",
    "        print(f\"WARNING: Manifest for {entity} changed during download!\")\n",
    "        print(\"You may want to re-run the download for this entity.\")\n"
   ]
  }
 ],
 "metadata": {
  "kernelspec": {
   "display_name": ".venv",
   "language": "python",
   "name": "python3"
  },
  "language_info": {
   "codemirror_mode": {
    "name": "ipython",
    "version": 3
   },
   "file_extension": ".py",
   "mimetype": "text/x-python",
   "name": "python",
   "nbconvert_exporter": "python",
   "pygments_lexer": "ipython3",
   "version": "3.12.7"
  }
 },
 "nbformat": 4,
 "nbformat_minor": 2
}
